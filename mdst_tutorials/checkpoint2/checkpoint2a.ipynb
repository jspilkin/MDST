{
 "cells": [
  {
   "cell_type": "markdown",
   "id": "unusual-presentation",
   "metadata": {
    "colab_type": "text",
    "id": "0a8IYAJUshu1"
   },
   "source": [
    "# Exercises"
   ]
  },
  {
   "cell_type": "markdown",
   "id": "alien-chemistry",
   "metadata": {},
   "source": [
    "These exercises are a mix of Python and pandas/EDA practice. Most should be no more than a few lines of code! "
   ]
  },
  {
   "cell_type": "code",
   "execution_count": 1,
   "id": "third-aquarium",
   "metadata": {},
   "outputs": [],
   "source": [
    "import numpy as np"
   ]
  },
  {
   "cell_type": "code",
   "execution_count": 2,
   "id": "royal-emission",
   "metadata": {},
   "outputs": [],
   "source": [
    "import pandas as pd"
   ]
  },
  {
   "cell_type": "code",
   "execution_count": 3,
   "id": "refined-chair",
   "metadata": {},
   "outputs": [],
   "source": [
    "import matplotlib.pyplot as plt"
   ]
  },
  {
   "cell_type": "code",
   "execution_count": 4,
   "id": "great-advertising",
   "metadata": {},
   "outputs": [],
   "source": [
    "import seaborn as sns"
   ]
  },
  {
   "cell_type": "code",
   "execution_count": 5,
   "id": "temporal-peoples",
   "metadata": {
    "colab": {},
    "colab_type": "code",
    "id": "Jo6wuTgkshu1"
   },
   "outputs": [
    {
     "data": {
      "text/plain": [
       "[1, 4, 9, 16, 25, 36]"
      ]
     },
     "execution_count": 5,
     "metadata": {},
     "output_type": "execute_result"
    }
   ],
   "source": [
    "# here is a Python list:\n",
    "\n",
    "a = [1, 2, 3, 4, 5, 6]\n",
    "\n",
    "# get a list containing the last 3 elements of a\n",
    "\n",
    "a.remove(1)\n",
    "a.remove(2)\n",
    "a.remove(3)\n",
    "\n",
    "# reverse the list\n",
    "\n",
    "a.reverse()\n",
    "\n",
    "# get a list where each entry in a is squared (so the new list is [1, 4, 9, 16, 25, 36])\n",
    "a = [1, 2, 3, 4, 5, 6]\n",
    "a = [i**2 for i in a ]\n",
    "a"
   ]
  },
  {
   "cell_type": "code",
   "execution_count": 6,
   "id": "foreign-hobby",
   "metadata": {
    "colab": {},
    "colab_type": "code",
    "id": "qANtg5kQshu2"
   },
   "outputs": [
    {
     "data": {
      "text/plain": [
       "array([ 1,  4,  9, 16, 25, 36])"
      ]
     },
     "execution_count": 6,
     "metadata": {},
     "output_type": "execute_result"
    }
   ],
   "source": [
    "# create a numpy array from this list\n",
    "b = np.array(a) # change this\n",
    "b"
   ]
  },
  {
   "cell_type": "code",
   "execution_count": 7,
   "id": "organic-stupid",
   "metadata": {
    "colab": {},
    "colab_type": "code",
    "id": "91CXRflLshu4"
   },
   "outputs": [
    {
     "data": {
      "text/plain": [
       "15.166666666666666"
      ]
     },
     "execution_count": 7,
     "metadata": {},
     "output_type": "execute_result"
    }
   ],
   "source": [
    "# find the mean of b\n",
    "b.mean()"
   ]
  },
  {
   "cell_type": "code",
   "execution_count": 8,
   "id": "bright-kinase",
   "metadata": {
    "colab": {},
    "colab_type": "code",
    "id": "ZJZFwzQfshu9"
   },
   "outputs": [
    {
     "data": {
      "text/plain": [
       "array([   1,   16,   81,  256,  625, 1296])"
      ]
     },
     "execution_count": 8,
     "metadata": {},
     "output_type": "execute_result"
    }
   ],
   "source": [
    "# get a list where each entry in b is squared (so the new numpy array is [1, 4, 9, 16, 25, 36])\n",
    "# use a different (numpy-specific) approach\n",
    "np.square(b)"
   ]
  },
  {
   "cell_type": "code",
   "execution_count": 9,
   "id": "universal-trance",
   "metadata": {
    "colab": {},
    "colab_type": "code",
    "id": "ajbA5rCCshu5"
   },
   "outputs": [
    {
     "data": {
      "text/plain": [
       "array([[ 1,  4,  9],\n",
       "       [16, 25, 36]])"
      ]
     },
     "execution_count": 9,
     "metadata": {},
     "output_type": "execute_result"
    }
   ],
   "source": [
    "# change b from a length-6 list to a 2x3 matrix\n",
    "b = np.reshape(b, (2,3))\n",
    "b"
   ]
  },
  {
   "cell_type": "code",
   "execution_count": 10,
   "id": "visible-reading",
   "metadata": {
    "colab": {},
    "colab_type": "code",
    "id": "wancU_PWshu6"
   },
   "outputs": [
    {
     "name": "stdout",
     "output_type": "stream",
     "text": [
      "4.666666666666667\n"
     ]
    },
    {
     "data": {
      "text/plain": [
       "25.666666666666668"
      ]
     },
     "execution_count": 10,
     "metadata": {},
     "output_type": "execute_result"
    }
   ],
   "source": [
    "# find the mean value of each row\n",
    "print(b[0].mean())\n",
    "b[1].mean()"
   ]
  },
  {
   "cell_type": "code",
   "execution_count": 11,
   "id": "prompt-breed",
   "metadata": {
    "colab": {},
    "colab_type": "code",
    "id": "N3hXBrBtshu7"
   },
   "outputs": [
    {
     "name": "stdout",
     "output_type": "stream",
     "text": [
      "8.5\n",
      "14.5\n",
      "22.5\n"
     ]
    }
   ],
   "source": [
    "# find the mean value of each column\n",
    "print(b[:,0].mean())\n",
    "print(b[:,1].mean())\n",
    "print(b[:,2].mean())"
   ]
  },
  {
   "cell_type": "code",
   "execution_count": 12,
   "id": "round-buffer",
   "metadata": {
    "colab": {},
    "colab_type": "code",
    "id": "GvbO8gBXshu8"
   },
   "outputs": [
    {
     "data": {
      "text/plain": [
       "array([ 9, 36])"
      ]
     },
     "execution_count": 12,
     "metadata": {},
     "output_type": "execute_result"
    }
   ],
   "source": [
    "# find the third column of b\n",
    "b[:,2]"
   ]
  },
  {
   "cell_type": "code",
   "execution_count": 13,
   "id": "distinguished-clause",
   "metadata": {
    "colab": {},
    "colab_type": "code",
    "id": "WzCQ5HOJshvA"
   },
   "outputs": [],
   "source": [
    "# load in the \"starbucks_clean.csv\" dataset\n",
    "df = pd.read_csv(\"../data/starbucks_clean.csv\")"
   ]
  },
  {
   "cell_type": "code",
   "execution_count": 14,
   "id": "global-clothing",
   "metadata": {
    "colab": {},
    "colab_type": "code",
    "id": "rIoxaSxHshvB"
   },
   "outputs": [
    {
     "data": {
      "text/plain": [
       "201.58447488584474"
      ]
     },
     "execution_count": 14,
     "metadata": {},
     "output_type": "execute_result"
    }
   ],
   "source": [
    "# this is nutritional info for starbucks items\n",
    "# let's see if we can answer some questions\n",
    "\n",
    "# what is the average # calories across all items?\n",
    "df[\"calories\"].mean()"
   ]
  },
  {
   "cell_type": "code",
   "execution_count": 15,
   "id": "shaped-paris",
   "metadata": {
    "colab": {},
    "colab_type": "code",
    "id": "ABX7i49FshvD"
   },
   "outputs": [
    {
     "data": {
      "text/plain": [
       "9"
      ]
     },
     "execution_count": 15,
     "metadata": {},
     "output_type": "execute_result"
    }
   ],
   "source": [
    "# how many different categories of beverages are there?\n",
    "df[\"beverage_category\"].unique().size"
   ]
  },
  {
   "cell_type": "code",
   "execution_count": 16,
   "id": "organic-encyclopedia",
   "metadata": {
    "colab": {},
    "colab_type": "code",
    "id": "P9QatZAzshvE"
   },
   "outputs": [
    {
     "data": {
      "text/plain": [
       "beverage_category\n",
       "classic espresso drinks            140.172414\n",
       "coffee                               4.250000\n",
       "frappuccinoblended coffee          276.944444\n",
       "frappuccinoblended crme            233.076923\n",
       "frappuccinolight blended coffee    162.500000\n",
       "shaken iced beverages              112.500000\n",
       "signature espresso drinks          250.000000\n",
       "smoothies                          282.500000\n",
       "tazotea drinks                     206.666667\n",
       "Name: calories, dtype: float64"
      ]
     },
     "execution_count": 16,
     "metadata": {},
     "output_type": "execute_result"
    }
   ],
   "source": [
    "# what is the average # calories for each beverage category?\n",
    "df.groupby(\"beverage_category\")[\"calories\"].mean()"
   ]
  },
  {
   "cell_type": "code",
   "execution_count": 17,
   "id": "enhanced-prior",
   "metadata": {
    "colab": {},
    "colab_type": "code",
    "id": "y8KEpYNkshvG",
    "scrolled": true
   },
   "outputs": [
    {
     "data": {
      "text/plain": [
       "beverage_prep\n",
       "2% Milk               31.666667\n",
       "Doppio                 0.000000\n",
       "Grande                21.500000\n",
       "Grande Nonfat Milk    39.125000\n",
       "Short                 11.000000\n",
       "Short Nonfat Milk     17.090909\n",
       "Solo                   0.000000\n",
       "Soymilk               32.467742\n",
       "Tall                  15.800000\n",
       "Tall Nonfat Milk      28.772727\n",
       "Venti                 28.500000\n",
       "Venti Nonfat Milk     50.571429\n",
       "Whole Milk            55.687500\n",
       "Name: sugars, dtype: float64"
      ]
     },
     "execution_count": 17,
     "metadata": {},
     "output_type": "execute_result"
    }
   ],
   "source": [
    "# what beverage preparation includes the most sugar on average?\n",
    "df.groupby(\"beverage_prep\")[\"sugars\"].mean()"
   ]
  },
  {
   "cell_type": "markdown",
   "id": "phantom-committee",
   "metadata": {},
   "source": [
    "The whole milk has the most sugar on average"
   ]
  },
  {
   "cell_type": "code",
   "execution_count": 18,
   "id": "academic-unknown",
   "metadata": {
    "colab": {},
    "colab_type": "code",
    "id": "MnbCEJw8shvH"
   },
   "outputs": [
    {
     "data": {
      "text/plain": [
       "beverage\n",
       "banana chocolate smoothie                      20.000000\n",
       "brewed coffee                                   0.500000\n",
       "caffamericano                                   1.500000\n",
       "cafflatte                                      35.000000\n",
       "caffmocha without whipped cream                30.000000\n",
       "cappuccino                                     22.500000\n",
       "caramel                                        11.000000\n",
       "caramel apple spice without whipped cream       0.000000\n",
       "caramel macchiato                              28.333333\n",
       "caramel without whipped cream                  12.000000\n",
       "coffee                                         12.333333\n",
       "espresso                                        0.000000\n",
       "hot chocolate without whipped cream            35.000000\n",
       "iced brewed coffee with classic syrup           0.000000\n",
       "iced brewed coffee with milk classic syrup      8.250000\n",
       "java chip                                      11.666667\n",
       "java chip without whipped cream                12.555556\n",
       "mocha                                          11.000000\n",
       "mocha without whipped cream                    12.000000\n",
       "orange mango banana smoothie                   10.000000\n",
       "shaken iced tazotea with classic syrup          0.000000\n",
       "skinny latte any flavour                       33.750000\n",
       "strawberries crme without whipped cream        15.000000\n",
       "strawberry banana smoothie                     10.000000\n",
       "tazochai tea latte                             21.666667\n",
       "tazofullleaf red tea latte vanilla rooibos     20.833333\n",
       "tazogreen tea latte                            39.166667\n",
       "vanilla bean without whipped cream             11.250000\n",
       "vanilla latte or other flavoured latte         32.916667\n",
       "white chocolate mocha without whipped cream    41.250000\n",
       "Name: calcium, dtype: float64"
      ]
     },
     "execution_count": 18,
     "metadata": {},
     "output_type": "execute_result"
    }
   ],
   "source": [
    "# what is the average % daily value calcium content for each beverage?\n",
    "df.groupby(\"beverage\")[\"calcium\"].mean()"
   ]
  },
  {
   "cell_type": "code",
   "execution_count": 19,
   "id": "changing-norman",
   "metadata": {
    "colab": {},
    "colab_type": "code",
    "id": "Nv5dksj_shvJ",
    "scrolled": true
   },
   "outputs": [
    {
     "data": {
      "text/html": [
       "<div>\n",
       "<style scoped>\n",
       "    .dataframe tbody tr th:only-of-type {\n",
       "        vertical-align: middle;\n",
       "    }\n",
       "\n",
       "    .dataframe tbody tr th {\n",
       "        vertical-align: top;\n",
       "    }\n",
       "\n",
       "    .dataframe thead th {\n",
       "        text-align: right;\n",
       "    }\n",
       "</style>\n",
       "<table border=\"1\" class=\"dataframe\">\n",
       "  <thead>\n",
       "    <tr style=\"text-align: right;\">\n",
       "      <th></th>\n",
       "      <th>calories</th>\n",
       "    </tr>\n",
       "    <tr>\n",
       "      <th>beverage</th>\n",
       "      <th></th>\n",
       "    </tr>\n",
       "  </thead>\n",
       "  <tbody>\n",
       "    <tr>\n",
       "      <th>brewed coffee</th>\n",
       "      <td>4.250000</td>\n",
       "    </tr>\n",
       "    <tr>\n",
       "      <th>espresso</th>\n",
       "      <td>7.500000</td>\n",
       "    </tr>\n",
       "    <tr>\n",
       "      <th>caffamericano</th>\n",
       "      <td>13.750000</td>\n",
       "    </tr>\n",
       "    <tr>\n",
       "      <th>shaken iced tazotea with classic syrup</th>\n",
       "      <td>60.000000</td>\n",
       "    </tr>\n",
       "    <tr>\n",
       "      <th>cappuccino</th>\n",
       "      <td>90.000000</td>\n",
       "    </tr>\n",
       "    <tr>\n",
       "      <th>iced brewed coffee with classic syrup</th>\n",
       "      <td>93.333333</td>\n",
       "    </tr>\n",
       "    <tr>\n",
       "      <th>skinny latte any flavour</th>\n",
       "      <td>110.000000</td>\n",
       "    </tr>\n",
       "    <tr>\n",
       "      <th>iced brewed coffee with milk classic syrup</th>\n",
       "      <td>126.250000</td>\n",
       "    </tr>\n",
       "    <tr>\n",
       "      <th>cafflatte</th>\n",
       "      <td>139.166667</td>\n",
       "    </tr>\n",
       "    <tr>\n",
       "      <th>tazofullleaf red tea latte vanilla rooibos</th>\n",
       "      <td>148.333333</td>\n",
       "    </tr>\n",
       "    <tr>\n",
       "      <th>caramel</th>\n",
       "      <td>150.000000</td>\n",
       "    </tr>\n",
       "    <tr>\n",
       "      <th>mocha</th>\n",
       "      <td>156.666667</td>\n",
       "    </tr>\n",
       "    <tr>\n",
       "      <th>caramel macchiato</th>\n",
       "      <td>184.166667</td>\n",
       "    </tr>\n",
       "    <tr>\n",
       "      <th>vanilla latte or other flavoured latte</th>\n",
       "      <td>195.833333</td>\n",
       "    </tr>\n",
       "    <tr>\n",
       "      <th>tazochai tea latte</th>\n",
       "      <td>196.666667</td>\n",
       "    </tr>\n",
       "    <tr>\n",
       "      <th>vanilla bean without whipped cream</th>\n",
       "      <td>197.500000</td>\n",
       "    </tr>\n",
       "    <tr>\n",
       "      <th>coffee</th>\n",
       "      <td>210.000000</td>\n",
       "    </tr>\n",
       "    <tr>\n",
       "      <th>caffmocha without whipped cream</th>\n",
       "      <td>210.000000</td>\n",
       "    </tr>\n",
       "    <tr>\n",
       "      <th>java chip</th>\n",
       "      <td>220.000000</td>\n",
       "    </tr>\n",
       "    <tr>\n",
       "      <th>hot chocolate without whipped cream</th>\n",
       "      <td>236.666667</td>\n",
       "    </tr>\n",
       "    <tr>\n",
       "      <th>caramel apple spice without whipped cream</th>\n",
       "      <td>247.500000</td>\n",
       "    </tr>\n",
       "    <tr>\n",
       "      <th>strawberries crme without whipped cream</th>\n",
       "      <td>248.888889</td>\n",
       "    </tr>\n",
       "    <tr>\n",
       "      <th>orange mango banana smoothie</th>\n",
       "      <td>266.666667</td>\n",
       "    </tr>\n",
       "    <tr>\n",
       "      <th>caramel without whipped cream</th>\n",
       "      <td>268.888889</td>\n",
       "    </tr>\n",
       "    <tr>\n",
       "      <th>mocha without whipped cream</th>\n",
       "      <td>272.222222</td>\n",
       "    </tr>\n",
       "    <tr>\n",
       "      <th>tazogreen tea latte</th>\n",
       "      <td>275.000000</td>\n",
       "    </tr>\n",
       "    <tr>\n",
       "      <th>strawberry banana smoothie</th>\n",
       "      <td>290.000000</td>\n",
       "    </tr>\n",
       "    <tr>\n",
       "      <th>banana chocolate smoothie</th>\n",
       "      <td>295.000000</td>\n",
       "    </tr>\n",
       "    <tr>\n",
       "      <th>java chip without whipped cream</th>\n",
       "      <td>327.777778</td>\n",
       "    </tr>\n",
       "    <tr>\n",
       "      <th>white chocolate mocha without whipped cream</th>\n",
       "      <td>330.000000</td>\n",
       "    </tr>\n",
       "  </tbody>\n",
       "</table>\n",
       "</div>"
      ],
      "text/plain": [
       "                                               calories\n",
       "beverage                                               \n",
       "brewed coffee                                  4.250000\n",
       "espresso                                       7.500000\n",
       "caffamericano                                 13.750000\n",
       "shaken iced tazotea with classic syrup        60.000000\n",
       "cappuccino                                    90.000000\n",
       "iced brewed coffee with classic syrup         93.333333\n",
       "skinny latte any flavour                     110.000000\n",
       "iced brewed coffee with milk classic syrup   126.250000\n",
       "cafflatte                                    139.166667\n",
       "tazofullleaf red tea latte vanilla rooibos   148.333333\n",
       "caramel                                      150.000000\n",
       "mocha                                        156.666667\n",
       "caramel macchiato                            184.166667\n",
       "vanilla latte or other flavoured latte       195.833333\n",
       "tazochai tea latte                           196.666667\n",
       "vanilla bean without whipped cream           197.500000\n",
       "coffee                                       210.000000\n",
       "caffmocha without whipped cream              210.000000\n",
       "java chip                                    220.000000\n",
       "hot chocolate without whipped cream          236.666667\n",
       "caramel apple spice without whipped cream    247.500000\n",
       "strawberries crme without whipped cream      248.888889\n",
       "orange mango banana smoothie                 266.666667\n",
       "caramel without whipped cream                268.888889\n",
       "mocha without whipped cream                  272.222222\n",
       "tazogreen tea latte                          275.000000\n",
       "strawberry banana smoothie                   290.000000\n",
       "banana chocolate smoothie                    295.000000\n",
       "java chip without whipped cream              327.777778\n",
       "white chocolate mocha without whipped cream  330.000000"
      ]
     },
     "execution_count": 19,
     "metadata": {},
     "output_type": "execute_result"
    }
   ],
   "source": [
    "# It's bulking season. What drink should Naitian get so that he maximizes protein but minimizes calories?\n",
    "# (you can use more than one line for this one)\n",
    "# there are multiple valid approaches you can take for this (with different answers)\n",
    "# I know that you want more calories for bulking season but whatever this is MDST, not Michigan Muscle Club okay\n",
    "dx = df.groupby(\"beverage\").agg({\"calories\": \"mean\"})\n",
    "dx = dx.sort_values(by=[\"calories\"])\n",
    "dx1 = df.groupby(\"beverage\").agg({\"protein\": \"mean\"})\n",
    "dx1 = dx1.sort_values(by=[\"protein\"], ascending = False)\n",
    "dx"
   ]
  },
  {
   "cell_type": "code",
   "execution_count": 20,
   "id": "certified-police",
   "metadata": {
    "scrolled": true
   },
   "outputs": [
    {
     "data": {
      "text/html": [
       "<div>\n",
       "<style scoped>\n",
       "    .dataframe tbody tr th:only-of-type {\n",
       "        vertical-align: middle;\n",
       "    }\n",
       "\n",
       "    .dataframe tbody tr th {\n",
       "        vertical-align: top;\n",
       "    }\n",
       "\n",
       "    .dataframe thead th {\n",
       "        text-align: right;\n",
       "    }\n",
       "</style>\n",
       "<table border=\"1\" class=\"dataframe\">\n",
       "  <thead>\n",
       "    <tr style=\"text-align: right;\">\n",
       "      <th></th>\n",
       "      <th>protein</th>\n",
       "    </tr>\n",
       "    <tr>\n",
       "      <th>beverage</th>\n",
       "      <th></th>\n",
       "    </tr>\n",
       "  </thead>\n",
       "  <tbody>\n",
       "    <tr>\n",
       "      <th>banana chocolate smoothie</th>\n",
       "      <td>19.500000</td>\n",
       "    </tr>\n",
       "    <tr>\n",
       "      <th>strawberry banana smoothie</th>\n",
       "      <td>16.000000</td>\n",
       "    </tr>\n",
       "    <tr>\n",
       "      <th>orange mango banana smoothie</th>\n",
       "      <td>15.666667</td>\n",
       "    </tr>\n",
       "    <tr>\n",
       "      <th>white chocolate mocha without whipped cream</th>\n",
       "      <td>12.500000</td>\n",
       "    </tr>\n",
       "    <tr>\n",
       "      <th>hot chocolate without whipped cream</th>\n",
       "      <td>11.666667</td>\n",
       "    </tr>\n",
       "    <tr>\n",
       "      <th>tazogreen tea latte</th>\n",
       "      <td>11.500000</td>\n",
       "    </tr>\n",
       "    <tr>\n",
       "      <th>caffmocha without whipped cream</th>\n",
       "      <td>11.083333</td>\n",
       "    </tr>\n",
       "    <tr>\n",
       "      <th>skinny latte any flavour</th>\n",
       "      <td>10.500000</td>\n",
       "    </tr>\n",
       "    <tr>\n",
       "      <th>cafflatte</th>\n",
       "      <td>10.416667</td>\n",
       "    </tr>\n",
       "    <tr>\n",
       "      <th>vanilla latte or other flavoured latte</th>\n",
       "      <td>9.750000</td>\n",
       "    </tr>\n",
       "    <tr>\n",
       "      <th>caramel macchiato</th>\n",
       "      <td>8.750000</td>\n",
       "    </tr>\n",
       "    <tr>\n",
       "      <th>cappuccino</th>\n",
       "      <td>6.833333</td>\n",
       "    </tr>\n",
       "    <tr>\n",
       "      <th>tazochai tea latte</th>\n",
       "      <td>6.500000</td>\n",
       "    </tr>\n",
       "    <tr>\n",
       "      <th>tazofullleaf red tea latte vanilla rooibos</th>\n",
       "      <td>5.750000</td>\n",
       "    </tr>\n",
       "    <tr>\n",
       "      <th>java chip</th>\n",
       "      <td>5.333333</td>\n",
       "    </tr>\n",
       "    <tr>\n",
       "      <th>java chip without whipped cream</th>\n",
       "      <td>5.000000</td>\n",
       "    </tr>\n",
       "    <tr>\n",
       "      <th>mocha without whipped cream</th>\n",
       "      <td>4.444444</td>\n",
       "    </tr>\n",
       "    <tr>\n",
       "      <th>mocha</th>\n",
       "      <td>4.333333</td>\n",
       "    </tr>\n",
       "    <tr>\n",
       "      <th>strawberries crme without whipped cream</th>\n",
       "      <td>4.111111</td>\n",
       "    </tr>\n",
       "    <tr>\n",
       "      <th>coffee</th>\n",
       "      <td>3.750000</td>\n",
       "    </tr>\n",
       "    <tr>\n",
       "      <th>vanilla bean without whipped cream</th>\n",
       "      <td>3.750000</td>\n",
       "    </tr>\n",
       "    <tr>\n",
       "      <th>caramel without whipped cream</th>\n",
       "      <td>3.666667</td>\n",
       "    </tr>\n",
       "    <tr>\n",
       "      <th>caramel</th>\n",
       "      <td>3.666667</td>\n",
       "    </tr>\n",
       "    <tr>\n",
       "      <th>iced brewed coffee with milk classic syrup</th>\n",
       "      <td>2.625000</td>\n",
       "    </tr>\n",
       "    <tr>\n",
       "      <th>caffamericano</th>\n",
       "      <td>0.850000</td>\n",
       "    </tr>\n",
       "    <tr>\n",
       "      <th>brewed coffee</th>\n",
       "      <td>0.700000</td>\n",
       "    </tr>\n",
       "    <tr>\n",
       "      <th>espresso</th>\n",
       "      <td>0.700000</td>\n",
       "    </tr>\n",
       "    <tr>\n",
       "      <th>iced brewed coffee with classic syrup</th>\n",
       "      <td>0.300000</td>\n",
       "    </tr>\n",
       "    <tr>\n",
       "      <th>shaken iced tazotea with classic syrup</th>\n",
       "      <td>0.000000</td>\n",
       "    </tr>\n",
       "    <tr>\n",
       "      <th>caramel apple spice without whipped cream</th>\n",
       "      <td>0.000000</td>\n",
       "    </tr>\n",
       "  </tbody>\n",
       "</table>\n",
       "</div>"
      ],
      "text/plain": [
       "                                               protein\n",
       "beverage                                              \n",
       "banana chocolate smoothie                    19.500000\n",
       "strawberry banana smoothie                   16.000000\n",
       "orange mango banana smoothie                 15.666667\n",
       "white chocolate mocha without whipped cream  12.500000\n",
       "hot chocolate without whipped cream          11.666667\n",
       "tazogreen tea latte                          11.500000\n",
       "caffmocha without whipped cream              11.083333\n",
       "skinny latte any flavour                     10.500000\n",
       "cafflatte                                    10.416667\n",
       "vanilla latte or other flavoured latte        9.750000\n",
       "caramel macchiato                             8.750000\n",
       "cappuccino                                    6.833333\n",
       "tazochai tea latte                            6.500000\n",
       "tazofullleaf red tea latte vanilla rooibos    5.750000\n",
       "java chip                                     5.333333\n",
       "java chip without whipped cream               5.000000\n",
       "mocha without whipped cream                   4.444444\n",
       "mocha                                         4.333333\n",
       "strawberries crme without whipped cream       4.111111\n",
       "coffee                                        3.750000\n",
       "vanilla bean without whipped cream            3.750000\n",
       "caramel without whipped cream                 3.666667\n",
       "caramel                                       3.666667\n",
       "iced brewed coffee with milk classic syrup    2.625000\n",
       "caffamericano                                 0.850000\n",
       "brewed coffee                                 0.700000\n",
       "espresso                                      0.700000\n",
       "iced brewed coffee with classic syrup         0.300000\n",
       "shaken iced tazotea with classic syrup        0.000000\n",
       "caramel apple spice without whipped cream     0.000000"
      ]
     },
     "execution_count": 20,
     "metadata": {},
     "output_type": "execute_result"
    }
   ],
   "source": [
    "dx1"
   ]
  },
  {
   "cell_type": "markdown",
   "id": "happy-algebra",
   "metadata": {},
   "source": [
    "The first one that shows up on both of the list is cappuccino, so that is what he should drink. "
   ]
  },
  {
   "cell_type": "code",
   "execution_count": 21,
   "id": "addressed-royalty",
   "metadata": {},
   "outputs": [
    {
     "data": {
      "text/plain": [
       "beverage\n",
       "banana chocolate smoothie                      AxesSubplot(0.125,0.125;0.775x0.755)\n",
       "brewed coffee                                  AxesSubplot(0.125,0.125;0.775x0.755)\n",
       "caffamericano                                  AxesSubplot(0.125,0.125;0.775x0.755)\n",
       "cafflatte                                      AxesSubplot(0.125,0.125;0.775x0.755)\n",
       "caffmocha without whipped cream                AxesSubplot(0.125,0.125;0.775x0.755)\n",
       "cappuccino                                     AxesSubplot(0.125,0.125;0.775x0.755)\n",
       "caramel                                        AxesSubplot(0.125,0.125;0.775x0.755)\n",
       "caramel apple spice without whipped cream      AxesSubplot(0.125,0.125;0.775x0.755)\n",
       "caramel macchiato                              AxesSubplot(0.125,0.125;0.775x0.755)\n",
       "caramel without whipped cream                  AxesSubplot(0.125,0.125;0.775x0.755)\n",
       "coffee                                         AxesSubplot(0.125,0.125;0.775x0.755)\n",
       "espresso                                       AxesSubplot(0.125,0.125;0.775x0.755)\n",
       "hot chocolate without whipped cream            AxesSubplot(0.125,0.125;0.775x0.755)\n",
       "iced brewed coffee with classic syrup          AxesSubplot(0.125,0.125;0.775x0.755)\n",
       "iced brewed coffee with milk classic syrup     AxesSubplot(0.125,0.125;0.775x0.755)\n",
       "java chip                                      AxesSubplot(0.125,0.125;0.775x0.755)\n",
       "java chip without whipped cream                AxesSubplot(0.125,0.125;0.775x0.755)\n",
       "mocha                                          AxesSubplot(0.125,0.125;0.775x0.755)\n",
       "mocha without whipped cream                    AxesSubplot(0.125,0.125;0.775x0.755)\n",
       "orange mango banana smoothie                   AxesSubplot(0.125,0.125;0.775x0.755)\n",
       "shaken iced tazotea with classic syrup         AxesSubplot(0.125,0.125;0.775x0.755)\n",
       "skinny latte any flavour                       AxesSubplot(0.125,0.125;0.775x0.755)\n",
       "strawberries crme without whipped cream        AxesSubplot(0.125,0.125;0.775x0.755)\n",
       "strawberry banana smoothie                     AxesSubplot(0.125,0.125;0.775x0.755)\n",
       "tazochai tea latte                             AxesSubplot(0.125,0.125;0.775x0.755)\n",
       "tazofullleaf red tea latte vanilla rooibos     AxesSubplot(0.125,0.125;0.775x0.755)\n",
       "tazogreen tea latte                            AxesSubplot(0.125,0.125;0.775x0.755)\n",
       "vanilla bean without whipped cream             AxesSubplot(0.125,0.125;0.775x0.755)\n",
       "vanilla latte or other flavoured latte         AxesSubplot(0.125,0.125;0.775x0.755)\n",
       "white chocolate mocha without whipped cream    AxesSubplot(0.125,0.125;0.775x0.755)\n",
       "Name: calories, dtype: object"
      ]
     },
     "execution_count": 21,
     "metadata": {},
     "output_type": "execute_result"
    },
    {
     "data": {
      "image/png": "[encoded data removed]",
      "text/plain": [
       "<Figure size 432x288 with 1 Axes>"
      ]
     },
     "metadata": {
      "needs_background": "light"
     },
     "output_type": "display_data"
    }
   ],
   "source": [
    "# plot the distribution of the number of calories in drinks using matplotlib\n",
    "df.groupby(\"beverage\")[\"calories\"].hist()"
   ]
  },
  {
   "cell_type": "code",
   "execution_count": 22,
   "id": "efficient-garbage",
   "metadata": {
    "scrolled": true
   },
   "outputs": [
    {
     "data": {
      "text/plain": [
       "<seaborn.axisgrid.FacetGrid at 0x7f5dd660c880>"
      ]
     },
     "execution_count": 22,
     "metadata": {},
     "output_type": "execute_result"
    },
    {
     "data": {
      "image/png": "[encoded data removed]",
      "text/plain": [
       "<Figure size 632.125x360 with 1 Axes>"
      ]
     },
     "metadata": {
      "needs_background": "light"
     },
     "output_type": "display_data"
    }
   ],
   "source": [
    "# plot the same distribution using seaborn. what about a density plot instead?\n",
    "sns.displot(data=df, x=\"calories\", hue = \"beverage\")"
   ]
  },
  {
   "cell_type": "code",
   "execution_count": 23,
   "id": "chicken-aluminum",
   "metadata": {},
   "outputs": [
    {
     "data": {
      "text/plain": [
       "<AxesSubplot:xlabel='calories', ylabel='total fat'>"
      ]
     },
     "execution_count": 23,
     "metadata": {},
     "output_type": "execute_result"
    },
    {
     "data": {
      "image/png": "[encoded data removed]",
      "text/plain": [
       "<Figure size 432x288 with 1 Axes>"
      ]
     },
     "metadata": {
      "needs_background": "light"
     },
     "output_type": "display_data"
    }
   ],
   "source": [
    "# plot calories against total fat using seaborn\n",
    "sns.scatterplot(data=df, x=\"calories\", y=\"total fat\")"
   ]
  },
  {
   "cell_type": "code",
   "execution_count": 24,
   "id": "involved-fighter",
   "metadata": {},
   "outputs": [],
   "source": [
    "# plot the distribution of calories in Short, Tall, Grande, and Venti drinks\n",
    "# (you can use multiple lines for this)\n",
    "# twist: you should also include the Nonfat Milk drinks that also have an associated size.\n",
    "\n",
    "# you can decide how you want to visualize this. Colors? Small multiples? Density vs histogram?\n",
    "# the starbucks is your oyster.\n"
   ]
  },
  {
   "cell_type": "code",
   "execution_count": 25,
   "id": "mature-drink",
   "metadata": {},
   "outputs": [],
   "source": [
    "short = df[(df[\"beverage_prep\"] == \"Short\")|(df[\"beverage_prep\"] == \"Short Nonfat Milk\")]\n",
    "tall = df[(df[\"beverage_prep\"] == \"Tall\")|(df[\"beverage_prep\"] == \"Tall Nonfat Milk\")]\n",
    "grande = df[(df[\"beverage_prep\"] == \"Grande\")|(df[\"beverage_prep\"] == \"Grande Nonfat Milk\")]"
   ]
  },
  {
   "cell_type": "code",
   "execution_count": 26,
   "id": "effective-league",
   "metadata": {},
   "outputs": [
    {
     "data": {
      "text/plain": [
       "<seaborn.axisgrid.FacetGrid at 0x7f5dd60ee5b0>"
      ]
     },
     "execution_count": 26,
     "metadata": {},
     "output_type": "execute_result"
    },
    {
     "data": {
      "image/png": "[encoded data removed]",
      "text/plain": [
       "<Figure size 360x360 with 1 Axes>"
      ]
     },
     "metadata": {
      "needs_background": "light"
     },
     "output_type": "display_data"
    },
    {
     "data": {
      "image/png": "[encoded data removed]",
      "text/plain": [
       "<Figure size 360x360 with 1 Axes>"
      ]
     },
     "metadata": {
      "needs_background": "light"
     },
     "output_type": "display_data"
    },
    {
     "data": {
      "image/png": "[encoded data removed]",
      "text/plain": [
       "<Figure size 360x360 with 1 Axes>"
      ]
     },
     "metadata": {
      "needs_background": "light"
     },
     "output_type": "display_data"
    }
   ],
   "source": [
    "sns.displot(data=short, x=\"calories\").set(title = \"Short\")\n",
    "sns.displot(data=tall, x=\"calories\").set(title = \"Tall\")\n",
    "sns.displot(data=grande, x=\"calories\").set(title = \"Grande\")"
   ]
  },
  {
   "cell_type": "code",
   "execution_count": null,
   "id": "administrative-insured",
   "metadata": {},
   "outputs": [],
   "source": []
  }
 ],
 "metadata": {
  "kernelspec": {
   "display_name": "Python 3",
   "language": "python",
   "name": "python3"
  },
  "language_info": {
   "codemirror_mode": {
    "name": "ipython",
    "version": 3
   },
   "file_extension": ".py",
   "mimetype": "text/x-python",
   "name": "python",
   "nbconvert_exporter": "python",
   "pygments_lexer": "ipython3",
   "version": "3.8.5"
  }
 },
 "nbformat": 4,
 "nbformat_minor": 5
}
